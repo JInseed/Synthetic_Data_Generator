{
 "cells": [
  {
   "cell_type": "code",
   "execution_count": 1,
   "id": "0842af07",
   "metadata": {},
   "outputs": [
    {
     "name": "stdout",
     "output_type": "stream",
     "text": [
      "0.24.0\n"
     ]
    }
   ],
   "source": [
    "import sklearn\n",
    "print(sklearn.__version__)"
   ]
  },
  {
   "cell_type": "code",
   "execution_count": 2,
   "id": "e37e78c1",
   "metadata": {},
   "outputs": [],
   "source": [
    "import seaborn as sns\n",
    "import matplotlib.pyplot as plt\n",
    "\n",
    "from matplotlib import rc\n",
    "%matplotlib inline\n",
    "from matplotlib import font_manager\n",
    "plt.style.use('default')\n",
    "f_path = \"C:/windows/Fonts/malgun.ttf\"\n",
    "ko_font = font_manager.FontProperties(fname=f_path).get_name()\n",
    "rc('font', family='Malgun Gothic')\n",
    "#plt.title('테스트')"
   ]
  },
  {
   "cell_type": "code",
   "execution_count": 3,
   "id": "d8a3ba11",
   "metadata": {},
   "outputs": [],
   "source": [
    "from model.ctabgan import CTABGAN\n",
    "import numpy as np\n",
    "import pandas as pd\n",
    "import glob\n",
    "from table_evaluator import load_data, TableEvaluator\n",
    "import sdmetrics"
   ]
  },
  {
   "cell_type": "code",
   "execution_count": 4,
   "id": "ae388faa",
   "metadata": {},
   "outputs": [],
   "source": [
    "#Data Load\n",
    "\n",
    "raw = pd.read_csv('C:/Users/82102/OneDrive - dongguk.edu/바탕 화면/캡스톤/data/rawdata.csv')"
   ]
  },
  {
   "cell_type": "code",
   "execution_count": null,
   "id": "9606891d",
   "metadata": {},
   "outputs": [],
   "source": [
    "raw"
   ]
  },
  {
   "cell_type": "code",
   "execution_count": null,
   "id": "e64dea8c",
   "metadata": {},
   "outputs": [],
   "source": [
    "raw.info()"
   ]
  },
  {
   "cell_type": "code",
   "execution_count": null,
   "id": "07fd2772",
   "metadata": {},
   "outputs": [],
   "source": [
    "# 범주형 변수 지정\n",
    "categorical_features = [\n",
    "    '저소득층여부',\n",
    "    '교육수준',\n",
    "    '혼인상태',\n",
    "    '가구형태',\n",
    "    '주택유형',\n",
    "    '주택점유형태',\n",
    "    '가구서비스',\n",
    "    '노인서비스',\n",
    "    '아동서비스'\n",
    "]\n",
    "\n",
    "real_path = 'C:/Users/82102/OneDrive - dongguk.edu/바탕 화면/캡스톤/data/rawdata.csv'"
   ]
  },
  {
   "cell_type": "code",
   "execution_count": null,
   "id": "93160746",
   "metadata": {},
   "outputs": [],
   "source": [
    "ctabganplus_0025 = CTABGAN(raw_csv_path = real_path,\n",
    "                  test_ratio = .975,\n",
    "                  categorical_columns = categorical_features,\n",
    "                  log_columns = [],\n",
    "                  mixed_columns= {},\n",
    "                  integer_columns = ['나이', '총소득','총생활비'],\n",
    "                  general_columns = ['나이'],\n",
    "                  non_categorical_columns= [],\n",
    "                  problem_type= {\"Classification\": '저소득층여부'}\n",
    "                 ) \n",
    "ctabganplus_0025.fit()\n",
    "\n",
    "# Create synthetic data\n",
    "synthetic_data_0025 = ctabganplus_0025.generate_samples()\n",
    "\n",
    "synthetic_data_0025 = synthetic_data_0025[['저소득층여부', '나이', '교육수준', '혼인상태', '가구형태', '주택유형', '주택점유형태', '총생활비',\n",
    "       '총소득', '가구서비스', '노인서비스', '아동서비스']]"
   ]
  },
  {
   "cell_type": "code",
   "execution_count": null,
   "id": "35b115d6",
   "metadata": {},
   "outputs": [],
   "source": [
    "ctabganplus_005 = CTABGAN(raw_csv_path = real_path,\n",
    "                  test_ratio = .95,\n",
    "                  categorical_columns = categorical_features,\n",
    "                  log_columns = [],\n",
    "                  mixed_columns= {},\n",
    "                  integer_columns = ['나이', '총소득','총생활비'],\n",
    "                  general_columns = ['나이'],\n",
    "                  non_categorical_columns= [],\n",
    "                  problem_type= {\"Classification\": '저소득층여부'}\n",
    "                 ) \n",
    "ctabganplus_005.fit()\n",
    "\n",
    "# Create synthetic data\n",
    "synthetic_data_005 = ctabganplus_005.generate_samples()\n",
    "\n",
    "synthetic_data_005 = synthetic_data_005[['저소득층여부', '나이', '교육수준', '혼인상태', '가구형태', '주택유형', '주택점유형태', '총생활비',\n",
    "       '총소득', '가구서비스', '노인서비스', '아동서비스']]"
   ]
  },
  {
   "cell_type": "code",
   "execution_count": null,
   "id": "9c8fbf81",
   "metadata": {},
   "outputs": [],
   "source": [
    "ctabganplus_010 = CTABGAN(raw_csv_path = real_path,\n",
    "                  test_ratio = .9,\n",
    "                  categorical_columns = categorical_features,\n",
    "                  log_columns = [],\n",
    "                  mixed_columns= {},\n",
    "                  integer_columns = ['나이', '총소득','총생활비'],\n",
    "                  general_columns = ['나이'],\n",
    "                  non_categorical_columns= [],\n",
    "                  problem_type= {\"Classification\": '저소득층여부'}\n",
    "                 ) \n",
    "ctabganplus_010.fit()\n",
    "\n",
    "# Create synthetic data\n",
    "synthetic_data_010 = ctabganplus_010.generate_samples()\n",
    "\n",
    "synthetic_data_010 = synthetic_data_010[['저소득층여부', '나이', '교육수준', '혼인상태', '가구형태', '주택유형', '주택점유형태', '총생활비',\n",
    "       '총소득', '가구서비스', '노인서비스', '아동서비스']]"
   ]
  },
  {
   "cell_type": "code",
   "execution_count": null,
   "id": "e89af04e",
   "metadata": {},
   "outputs": [],
   "source": [
    "ctabganplus_020 = CTABGAN(raw_csv_path = real_path,\n",
    "                  test_ratio = .8,\n",
    "                  categorical_columns = categorical_features,\n",
    "                  log_columns = [],\n",
    "                  mixed_columns= {},\n",
    "                  integer_columns = ['나이', '총소득','총생활비'],\n",
    "                  general_columns = ['나이'],\n",
    "                  non_categorical_columns= [],\n",
    "                  problem_type= {\"Classification\": '저소득층여부'}\n",
    "                 ) \n",
    "ctabganplus_020.fit()\n",
    "\n",
    "# Create synthetic data\n",
    "synthetic_data_020 = ctabganplus_020.generate_samples()\n",
    "\n",
    "synthetic_data_020 = synthetic_data_020[['저소득층여부', '나이', '교육수준', '혼인상태', '가구형태', '주택유형', '주택점유형태', '총생활비',\n",
    "       '총소득', '가구서비스', '노인서비스', '아동서비스']]"
   ]
  },
  {
   "cell_type": "code",
   "execution_count": null,
   "id": "04762fb8",
   "metadata": {},
   "outputs": [],
   "source": [
    "ctabganplus_030 = CTABGAN(raw_csv_path = real_path,\n",
    "                  test_ratio = .7,\n",
    "                  categorical_columns = categorical_features,\n",
    "                  log_columns = [],\n",
    "                  mixed_columns= {},\n",
    "                  integer_columns = ['나이', '총소득','총생활비'],\n",
    "                  general_columns = ['나이'],\n",
    "                  non_categorical_columns= [],\n",
    "                  problem_type= {\"Classification\": '저소득층여부'}\n",
    "                 ) \n",
    "ctabganplus_030.fit()\n",
    "\n",
    "# Create synthetic data\n",
    "synthetic_data_030 = ctabganplus_030.generate_samples()\n",
    "\n",
    "synthetic_data_030 = synthetic_data_030[['저소득층여부', '나이', '교육수준', '혼인상태', '가구형태', '주택유형', '주택점유형태', '총생활비',\n",
    "       '총소득', '가구서비스', '노인서비스', '아동서비스']]"
   ]
  },
  {
   "cell_type": "code",
   "execution_count": null,
   "id": "56d89dd4",
   "metadata": {},
   "outputs": [],
   "source": [
    "ctabganplus_040 = CTABGAN(raw_csv_path = real_path,\n",
    "                  test_ratio = .6,\n",
    "                  categorical_columns = categorical_features,\n",
    "                  log_columns = [],\n",
    "                  mixed_columns= {},\n",
    "                  integer_columns = ['나이', '총소득','총생활비'],\n",
    "                  general_columns = ['나이'],\n",
    "                  non_categorical_columns= [],\n",
    "                  problem_type= {\"Classification\": '저소득층여부'}\n",
    "                 ) \n",
    "ctabganplus_040.fit()\n",
    "\n",
    "# Create synthetic data\n",
    "synthetic_data_040 = ctabganplus_040.generate_samples()\n",
    "\n",
    "synthetic_data_040 = synthetic_data_040[['저소득층여부', '나이', '교육수준', '혼인상태', '가구형태', '주택유형', '주택점유형태', '총생활비',\n",
    "       '총소득', '가구서비스', '노인서비스', '아동서비스']]"
   ]
  },
  {
   "cell_type": "code",
   "execution_count": null,
   "id": "ecda2885",
   "metadata": {},
   "outputs": [],
   "source": [
    "ctabganplus_050 = CTABGAN(raw_csv_path = real_path,\n",
    "                  test_ratio = .5,\n",
    "                  categorical_columns = categorical_features,\n",
    "                  log_columns = [],\n",
    "                  mixed_columns= {},\n",
    "                  integer_columns = ['나이', '총소득','총생활비'],\n",
    "                  general_columns = ['나이'],\n",
    "                  non_categorical_columns= [],\n",
    "                  problem_type= {\"Classification\": '저소득층여부'}\n",
    "                 ) \n",
    "ctabganplus_050.fit()\n",
    "\n",
    "# Create synthetic data\n",
    "synthetic_data_050 = ctabganplus_050.generate_samples()\n",
    "\n",
    "synthetic_data_050 = synthetic_data_050[['저소득층여부', '나이', '교육수준', '혼인상태', '가구형태', '주택유형', '주택점유형태', '총생활비',\n",
    "       '총소득', '가구서비스', '노인서비스', '아동서비스']]"
   ]
  },
  {
   "cell_type": "code",
   "execution_count": null,
   "id": "1a5981d1",
   "metadata": {},
   "outputs": [],
   "source": [
    "ctabganplus_060 = CTABGAN(raw_csv_path = real_path,\n",
    "                  test_ratio = .4,\n",
    "                  categorical_columns = categorical_features,\n",
    "                  log_columns = [],\n",
    "                  mixed_columns= {},\n",
    "                  integer_columns = ['나이', '총소득','총생활비'],\n",
    "                  general_columns = ['나이'],\n",
    "                  non_categorical_columns= [],\n",
    "                  problem_type= {\"Classification\": '저소득층여부'}\n",
    "                 ) \n",
    "ctabganplus_060.fit()\n",
    "\n",
    "# Create synthetic data\n",
    "synthetic_data_060 = ctabganplus_060.generate_samples()\n",
    "\n",
    "synthetic_data_060 = synthetic_data_060[['저소득층여부', '나이', '교육수준', '혼인상태', '가구형태', '주택유형', '주택점유형태', '총생활비',\n",
    "       '총소득', '가구서비스', '노인서비스', '아동서비스']]"
   ]
  },
  {
   "cell_type": "code",
   "execution_count": null,
   "id": "aedd3f1d",
   "metadata": {},
   "outputs": [],
   "source": [
    "ctabganplus_070 = CTABGAN(raw_csv_path = real_path,\n",
    "                  test_ratio = .3,\n",
    "                  categorical_columns = categorical_features,\n",
    "                  log_columns = [],\n",
    "                  mixed_columns= {},\n",
    "                  integer_columns = ['나이', '총소득','총생활비'],\n",
    "                  general_columns = ['나이'],\n",
    "                  non_categorical_columns= [],\n",
    "                  problem_type= {\"Classification\": '저소득층여부'}\n",
    "                 ) \n",
    "ctabganplus_070.fit()\n",
    "\n",
    "# Create synthetic data\n",
    "synthetic_data_070 = ctabganplus_070.generate_samples()\n",
    "\n",
    "synthetic_data_070 = synthetic_data_070[['저소득층여부', '나이', '교육수준', '혼인상태', '가구형태', '주택유형', '주택점유형태', '총생활비',\n",
    "       '총소득', '가구서비스', '노인서비스', '아동서비스']]"
   ]
  },
  {
   "cell_type": "code",
   "execution_count": null,
   "id": "6aad720c",
   "metadata": {},
   "outputs": [],
   "source": [
    "ctabganplus_080 = CTABGAN(raw_csv_path = real_path,\n",
    "                  test_ratio = .2,\n",
    "                  categorical_columns = categorical_features,\n",
    "                  log_columns = [],\n",
    "                  mixed_columns= {},\n",
    "                  integer_columns = ['나이', '총소득','총생활비'],\n",
    "                  general_columns = ['나이'],\n",
    "                  non_categorical_columns= [],\n",
    "                  problem_type= {\"Classification\": '저소득층여부'}\n",
    "                 ) \n",
    "ctabganplus_080.fit()\n",
    "\n",
    "# Create synthetic data\n",
    "synthetic_data_080 = ctabganplus_080.generate_samples()\n",
    "\n",
    "synthetic_data_080 = synthetic_data_080[['저소득층여부', '나이', '교육수준', '혼인상태', '가구형태', '주택유형', '주택점유형태', '총생활비',\n",
    "       '총소득', '가구서비스', '노인서비스', '아동서비스']]"
   ]
  },
  {
   "cell_type": "code",
   "execution_count": null,
   "id": "738f3df0",
   "metadata": {},
   "outputs": [],
   "source": [
    "ctabganplus_090 = CTABGAN(raw_csv_path = real_path,\n",
    "                  test_ratio = .1,\n",
    "                  categorical_columns = categorical_features,\n",
    "                  log_columns = [],\n",
    "                  mixed_columns= {},\n",
    "                  integer_columns = ['나이', '총소득','총생활비'],\n",
    "                  general_columns = ['나이'],\n",
    "                  non_categorical_columns= [],\n",
    "                  problem_type= {\"Classification\": '저소득층여부'}\n",
    "                 ) \n",
    "ctabganplus_090.fit()\n",
    "\n",
    "# Create synthetic data\n",
    "synthetic_data_090 = ctabganplus_090.generate_samples()\n",
    "\n",
    "synthetic_data_090 = synthetic_data_090[['저소득층여부', '나이', '교육수준', '혼인상태', '가구형태', '주택유형', '주택점유형태', '총생활비',\n",
    "       '총소득', '가구서비스', '노인서비스', '아동서비스']]"
   ]
  },
  {
   "cell_type": "code",
   "execution_count": null,
   "id": "cc5105a0",
   "metadata": {},
   "outputs": [],
   "source": [
    "ctabganplus_095 = CTABGAN(raw_csv_path = real_path,\n",
    "                  test_ratio = .05,\n",
    "                  categorical_columns = categorical_features,\n",
    "                  log_columns = [],\n",
    "                  mixed_columns= {},\n",
    "                  integer_columns = ['나이', '총소득','총생활비'],\n",
    "                  general_columns = ['나이'],\n",
    "                  non_categorical_columns= [],\n",
    "                  problem_type= {\"Classification\": '저소득층여부'}\n",
    "                 ) \n",
    "ctabganplus_095.fit()\n",
    "\n",
    "# Create synthetic data\n",
    "synthetic_data_095 = ctabganplus_095.generate_samples()\n",
    "\n",
    "synthetic_data_095 = synthetic_data_095[['저소득층여부', '나이', '교육수준', '혼인상태', '가구형태', '주택유형', '주택점유형태', '총생활비',\n",
    "       '총소득', '가구서비스', '노인서비스', '아동서비스']]"
   ]
  },
  {
   "cell_type": "code",
   "execution_count": null,
   "id": "14a1e261",
   "metadata": {},
   "outputs": [],
   "source": [
    "ctabganplus_0975 = CTABGAN(raw_csv_path = real_path,\n",
    "                  test_ratio = .025,\n",
    "                  categorical_columns = categorical_features,\n",
    "                  log_columns = [],\n",
    "                  mixed_columns= {},\n",
    "                  integer_columns = ['나이', '총소득','총생활비'],\n",
    "                  general_columns = ['나이'],\n",
    "                  non_categorical_columns= [],\n",
    "                  problem_type= {\"Classification\": '저소득층여부'}\n",
    "                 ) \n",
    "ctabganplus_0975.fit()\n",
    "\n",
    "# Create synthetic data\n",
    "synthetic_data_0975 = ctabganplus_0975.generate_samples()\n",
    "\n",
    "synthetic_data_0975 = synthetic_data_0975[['저소득층여부', '나이', '교육수준', '혼인상태', '가구형태', '주택유형', '주택점유형태', '총생활비',\n",
    "       '총소득', '가구서비스', '노인서비스', '아동서비스']]"
   ]
  },
  {
   "cell_type": "code",
   "execution_count": null,
   "id": "c9761781",
   "metadata": {},
   "outputs": [],
   "source": [
    "ctabganplus_0999 = CTABGAN(raw_csv_path = real_path,\n",
    "                  test_ratio = .001,\n",
    "                  categorical_columns = categorical_features,\n",
    "                  log_columns = [],\n",
    "                  mixed_columns= {},\n",
    "                  integer_columns = ['나이', '총소득','총생활비'],\n",
    "                  general_columns = ['나이'],\n",
    "                  non_categorical_columns= [],\n",
    "                  problem_type= {\"Classification\": '저소득층여부'}\n",
    "                 ) \n",
    "ctabganplus_0999.fit()\n",
    "\n",
    "# Create synthetic data\n",
    "synthetic_data_0999 = ctabganplus_0999.generate_samples()\n",
    "\n",
    "synthetic_data_0999 = synthetic_data_0999[['저소득층여부', '나이', '교육수준', '혼인상태', '가구형태', '주택유형', '주택점유형태', '총생활비',\n",
    "       '총소득', '가구서비스', '노인서비스', '아동서비스']]"
   ]
  },
  {
   "cell_type": "code",
   "execution_count": null,
   "id": "85dabff0",
   "metadata": {},
   "outputs": [],
   "source": [
    "synthetic_data_0025.to_csv('ctabganplus_0025.csv', encoding='UTF-8-sig')\n",
    "synthetic_data_005.to_csv('ctabganplus_005.csv', encoding='UTF-8-sig')\n",
    "synthetic_data_010.to_csv('ctabganplus_010.csv', encoding='UTF-8-sig')\n",
    "synthetic_data_020.to_csv('ctabganplus_020.csv', encoding='UTF-8-sig')\n",
    "synthetic_data_030.to_csv('ctabganplus_030.csv', encoding='UTF-8-sig')\n",
    "synthetic_data_040.to_csv('ctabganplus_040.csv', encoding='UTF-8-sig')\n",
    "synthetic_data_050.to_csv('ctabganplus_050.csv', encoding='UTF-8-sig')\n",
    "synthetic_data_060.to_csv('ctabganplus_060.csv', encoding='UTF-8-sig')\n",
    "synthetic_data_070.to_csv('ctabganplus_070.csv', encoding='UTF-8-sig')\n",
    "synthetic_data_080.to_csv('ctabganplus_080.csv', encoding='UTF-8-sig')\n",
    "synthetic_data_090.to_csv('ctabganplus_090.csv', encoding='UTF-8-sig')\n",
    "synthetic_data_095.to_csv('ctabganplus_095.csv', encoding='UTF-8-sig')\n",
    "synthetic_data_0975.to_csv('ctabganplus_0975.csv', encoding='UTF-8-sig')\n",
    "synthetic_data_0999.to_csv('ctabganplus_0999.csv', encoding='UTF-8-sig')"
   ]
  }
 ],
 "metadata": {
  "kernelspec": {
   "display_name": "Python 3 (ipykernel)",
   "language": "python",
   "name": "python3"
  },
  "language_info": {
   "codemirror_mode": {
    "name": "ipython",
    "version": 3
   },
   "file_extension": ".py",
   "mimetype": "text/x-python",
   "name": "python",
   "nbconvert_exporter": "python",
   "pygments_lexer": "ipython3",
   "version": "3.9.7"
  }
 },
 "nbformat": 4,
 "nbformat_minor": 5
}
