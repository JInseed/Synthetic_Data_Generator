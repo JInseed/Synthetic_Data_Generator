{
 "cells": [
  {
   "cell_type": "code",
   "execution_count": 1,
   "id": "8d6f8463",
   "metadata": {},
   "outputs": [],
   "source": [
    "import seaborn as sns\n",
    "import matplotlib.pyplot as plt\n",
    "\n",
    "from matplotlib import rc\n",
    "%matplotlib inline\n",
    "from matplotlib import font_manager\n",
    "plt.style.use('default')\n",
    "f_path = \"C:/windows/Fonts/malgun.ttf\"\n",
    "ko_font = font_manager.FontProperties(fname=f_path).get_name()\n",
    "rc('font', family='Malgun Gothic')\n",
    "#plt.title('테스트')"
   ]
  },
  {
   "cell_type": "code",
   "execution_count": 2,
   "id": "dbb7edd8",
   "metadata": {},
   "outputs": [],
   "source": [
    "import pandas as pd\n",
    "import numpy as np\n",
    "from table_evaluator import load_data, TableEvaluator\n",
    "import sdmetrics\n",
    "from ctgan import CTGAN"
   ]
  },
  {
   "cell_type": "code",
   "execution_count": 3,
   "id": "6cb69246",
   "metadata": {},
   "outputs": [],
   "source": [
    "#Data Load\n",
    "\n",
    "raw = pd.read_csv('C:/Users/82102/OneDrive - dongguk.edu/바탕 화면/캡스톤/data/rawdata.csv')"
   ]
  },
  {
   "cell_type": "code",
   "execution_count": 4,
   "id": "ad5fc152",
   "metadata": {},
   "outputs": [
    {
     "data": {
      "text/html": [
       "<div>\n",
       "<style scoped>\n",
       "    .dataframe tbody tr th:only-of-type {\n",
       "        vertical-align: middle;\n",
       "    }\n",
       "\n",
       "    .dataframe tbody tr th {\n",
       "        vertical-align: top;\n",
       "    }\n",
       "\n",
       "    .dataframe thead th {\n",
       "        text-align: right;\n",
       "    }\n",
       "</style>\n",
       "<table border=\"1\" class=\"dataframe\">\n",
       "  <thead>\n",
       "    <tr style=\"text-align: right;\">\n",
       "      <th></th>\n",
       "      <th>저소득층여부</th>\n",
       "      <th>나이</th>\n",
       "      <th>교육수준</th>\n",
       "      <th>혼인상태</th>\n",
       "      <th>가구형태</th>\n",
       "      <th>주택유형</th>\n",
       "      <th>주택점유형태</th>\n",
       "      <th>총생활비</th>\n",
       "      <th>총소득</th>\n",
       "      <th>가구서비스</th>\n",
       "      <th>노인서비스</th>\n",
       "      <th>아동서비스</th>\n",
       "    </tr>\n",
       "  </thead>\n",
       "  <tbody>\n",
       "    <tr>\n",
       "      <th>0</th>\n",
       "      <td>2</td>\n",
       "      <td>78</td>\n",
       "      <td>중등</td>\n",
       "      <td>사별</td>\n",
       "      <td>단독</td>\n",
       "      <td>다가구용단독주택</td>\n",
       "      <td>자가</td>\n",
       "      <td>3300</td>\n",
       "      <td>0</td>\n",
       "      <td>이용</td>\n",
       "      <td>이용</td>\n",
       "      <td>해당없음</td>\n",
       "    </tr>\n",
       "    <tr>\n",
       "      <th>1</th>\n",
       "      <td>1</td>\n",
       "      <td>75</td>\n",
       "      <td>초등</td>\n",
       "      <td>사별</td>\n",
       "      <td>단독</td>\n",
       "      <td>다가구용단독주택</td>\n",
       "      <td>보증부월세</td>\n",
       "      <td>2868</td>\n",
       "      <td>2064</td>\n",
       "      <td>이용</td>\n",
       "      <td>이용</td>\n",
       "      <td>해당없음</td>\n",
       "    </tr>\n",
       "    <tr>\n",
       "      <th>2</th>\n",
       "      <td>1</td>\n",
       "      <td>81</td>\n",
       "      <td>대학</td>\n",
       "      <td>이혼</td>\n",
       "      <td>단독</td>\n",
       "      <td>일반단독주택</td>\n",
       "      <td>자가</td>\n",
       "      <td>1872</td>\n",
       "      <td>1200</td>\n",
       "      <td>이용</td>\n",
       "      <td>이용</td>\n",
       "      <td>해당없음</td>\n",
       "    </tr>\n",
       "    <tr>\n",
       "      <th>3</th>\n",
       "      <td>1</td>\n",
       "      <td>61</td>\n",
       "      <td>전문대</td>\n",
       "      <td>유배우</td>\n",
       "      <td>기타</td>\n",
       "      <td>다가구용단독주택</td>\n",
       "      <td>자가</td>\n",
       "      <td>6492</td>\n",
       "      <td>3216</td>\n",
       "      <td>이용</td>\n",
       "      <td>이용</td>\n",
       "      <td>해당없음</td>\n",
       "    </tr>\n",
       "    <tr>\n",
       "      <th>4</th>\n",
       "      <td>2</td>\n",
       "      <td>83</td>\n",
       "      <td>초등</td>\n",
       "      <td>사별</td>\n",
       "      <td>단독</td>\n",
       "      <td>일반아파트</td>\n",
       "      <td>비가구원명의주택</td>\n",
       "      <td>1020</td>\n",
       "      <td>324</td>\n",
       "      <td>이용</td>\n",
       "      <td>이용</td>\n",
       "      <td>해당없음</td>\n",
       "    </tr>\n",
       "    <tr>\n",
       "      <th>...</th>\n",
       "      <td>...</td>\n",
       "      <td>...</td>\n",
       "      <td>...</td>\n",
       "      <td>...</td>\n",
       "      <td>...</td>\n",
       "      <td>...</td>\n",
       "      <td>...</td>\n",
       "      <td>...</td>\n",
       "      <td>...</td>\n",
       "      <td>...</td>\n",
       "      <td>...</td>\n",
       "      <td>...</td>\n",
       "    </tr>\n",
       "    <tr>\n",
       "      <th>7860</th>\n",
       "      <td>1</td>\n",
       "      <td>42</td>\n",
       "      <td>전문대</td>\n",
       "      <td>유배우</td>\n",
       "      <td>기타</td>\n",
       "      <td>일반아파트</td>\n",
       "      <td>전세</td>\n",
       "      <td>4608</td>\n",
       "      <td>3630</td>\n",
       "      <td>이용</td>\n",
       "      <td>해당없음</td>\n",
       "      <td>이용</td>\n",
       "    </tr>\n",
       "    <tr>\n",
       "      <th>7861</th>\n",
       "      <td>1</td>\n",
       "      <td>46</td>\n",
       "      <td>대학</td>\n",
       "      <td>유배우</td>\n",
       "      <td>기타</td>\n",
       "      <td>일반아파트</td>\n",
       "      <td>자가</td>\n",
       "      <td>8580</td>\n",
       "      <td>5100</td>\n",
       "      <td>미이용</td>\n",
       "      <td>해당없음</td>\n",
       "      <td>이용</td>\n",
       "    </tr>\n",
       "    <tr>\n",
       "      <th>7862</th>\n",
       "      <td>1</td>\n",
       "      <td>47</td>\n",
       "      <td>대학</td>\n",
       "      <td>유배우</td>\n",
       "      <td>기타</td>\n",
       "      <td>일반아파트</td>\n",
       "      <td>자가</td>\n",
       "      <td>7140</td>\n",
       "      <td>5500</td>\n",
       "      <td>이용</td>\n",
       "      <td>해당없음</td>\n",
       "      <td>이용</td>\n",
       "    </tr>\n",
       "    <tr>\n",
       "      <th>7863</th>\n",
       "      <td>1</td>\n",
       "      <td>48</td>\n",
       "      <td>대학</td>\n",
       "      <td>유배우</td>\n",
       "      <td>기타</td>\n",
       "      <td>일반아파트</td>\n",
       "      <td>전세</td>\n",
       "      <td>6744</td>\n",
       "      <td>10350</td>\n",
       "      <td>미이용</td>\n",
       "      <td>해당없음</td>\n",
       "      <td>미이용</td>\n",
       "    </tr>\n",
       "    <tr>\n",
       "      <th>7864</th>\n",
       "      <td>1</td>\n",
       "      <td>59</td>\n",
       "      <td>대학</td>\n",
       "      <td>유배우</td>\n",
       "      <td>기타</td>\n",
       "      <td>일반아파트</td>\n",
       "      <td>전세</td>\n",
       "      <td>6168</td>\n",
       "      <td>7880</td>\n",
       "      <td>미이용</td>\n",
       "      <td>해당없음</td>\n",
       "      <td>해당없음</td>\n",
       "    </tr>\n",
       "  </tbody>\n",
       "</table>\n",
       "<p>7865 rows × 12 columns</p>\n",
       "</div>"
      ],
      "text/plain": [
       "      저소득층여부  나이 교육수준 혼인상태 가구형태      주택유형    주택점유형태  총생활비    총소득 가구서비스 노인서비스  \\\n",
       "0          2  78   중등   사별   단독  다가구용단독주택        자가  3300      0    이용    이용   \n",
       "1          1  75   초등   사별   단독  다가구용단독주택     보증부월세  2868   2064    이용    이용   \n",
       "2          1  81   대학   이혼   단독    일반단독주택        자가  1872   1200    이용    이용   \n",
       "3          1  61  전문대  유배우   기타  다가구용단독주택        자가  6492   3216    이용    이용   \n",
       "4          2  83   초등   사별   단독     일반아파트  비가구원명의주택  1020    324    이용    이용   \n",
       "...      ...  ..  ...  ...  ...       ...       ...   ...    ...   ...   ...   \n",
       "7860       1  42  전문대  유배우   기타     일반아파트        전세  4608   3630    이용  해당없음   \n",
       "7861       1  46   대학  유배우   기타     일반아파트        자가  8580   5100   미이용  해당없음   \n",
       "7862       1  47   대학  유배우   기타     일반아파트        자가  7140   5500    이용  해당없음   \n",
       "7863       1  48   대학  유배우   기타     일반아파트        전세  6744  10350   미이용  해당없음   \n",
       "7864       1  59   대학  유배우   기타     일반아파트        전세  6168   7880   미이용  해당없음   \n",
       "\n",
       "     아동서비스  \n",
       "0     해당없음  \n",
       "1     해당없음  \n",
       "2     해당없음  \n",
       "3     해당없음  \n",
       "4     해당없음  \n",
       "...    ...  \n",
       "7860    이용  \n",
       "7861    이용  \n",
       "7862    이용  \n",
       "7863   미이용  \n",
       "7864  해당없음  \n",
       "\n",
       "[7865 rows x 12 columns]"
      ]
     },
     "execution_count": 4,
     "metadata": {},
     "output_type": "execute_result"
    }
   ],
   "source": [
    "raw"
   ]
  },
  {
   "cell_type": "code",
   "execution_count": 5,
   "id": "c97fa715",
   "metadata": {},
   "outputs": [
    {
     "name": "stdout",
     "output_type": "stream",
     "text": [
      "<class 'pandas.core.frame.DataFrame'>\n",
      "RangeIndex: 7865 entries, 0 to 7864\n",
      "Data columns (total 12 columns):\n",
      " #   Column  Non-Null Count  Dtype \n",
      "---  ------  --------------  ----- \n",
      " 0   저소득층여부  7865 non-null   int64 \n",
      " 1   나이      7865 non-null   int64 \n",
      " 2   교육수준    7865 non-null   object\n",
      " 3   혼인상태    7865 non-null   object\n",
      " 4   가구형태    7865 non-null   object\n",
      " 5   주택유형    7865 non-null   object\n",
      " 6   주택점유형태  7865 non-null   object\n",
      " 7   총생활비    7865 non-null   int64 \n",
      " 8   총소득     7865 non-null   int64 \n",
      " 9   가구서비스   7865 non-null   object\n",
      " 10  노인서비스   7865 non-null   object\n",
      " 11  아동서비스   7865 non-null   object\n",
      "dtypes: int64(4), object(8)\n",
      "memory usage: 737.5+ KB\n"
     ]
    }
   ],
   "source": [
    "raw.info()"
   ]
  },
  {
   "cell_type": "code",
   "execution_count": 6,
   "id": "1c3733c3",
   "metadata": {},
   "outputs": [],
   "source": [
    "from sklearn.model_selection import train_test_split\n",
    "\n",
    "raw_0025,_ = train_test_split(raw, train_size = .025, random_state = 1)\n",
    "raw_005,_ = train_test_split(raw, train_size = .05, random_state = 1)\n",
    "raw_010,_ = train_test_split(raw, train_size = .1, random_state = 1)\n",
    "raw_020,_ = train_test_split(raw, train_size = .2, random_state = 1)\n",
    "raw_030,_ = train_test_split(raw, train_size = .3, random_state = 1)\n",
    "raw_040,_ = train_test_split(raw, train_size = .4, random_state = 1)\n",
    "raw_050,_ = train_test_split(raw, train_size = .5, random_state = 1)\n",
    "raw_060,_ = train_test_split(raw, train_size = .6, random_state = 1)\n",
    "raw_070,_ = train_test_split(raw, train_size = .7, random_state = 1)\n",
    "raw_080,_ = train_test_split(raw, train_size = .8, random_state = 1)\n",
    "raw_090,_ = train_test_split(raw, train_size = .9, random_state = 1)\n",
    "raw_095,_ = train_test_split(raw, train_size = .95, random_state = 1)\n",
    "raw_0975,_ = train_test_split(raw, train_size = .975, random_state = 1)\n",
    "raw_0999,_ = train_test_split(raw, train_size = .999, random_state = 1)"
   ]
  },
  {
   "cell_type": "markdown",
   "id": "ac7bda5d",
   "metadata": {},
   "source": [
    "# Generate Data_CTGAN"
   ]
  },
  {
   "cell_type": "code",
   "execution_count": 7,
   "id": "b82b6baf",
   "metadata": {},
   "outputs": [],
   "source": [
    "# 범주형 변수 지정\n",
    "categorical_features = [\n",
    "    '저소득층여부',\n",
    "    '교육수준',\n",
    "    '혼인상태',\n",
    "    '가구형태',\n",
    "    '주택유형',\n",
    "    '주택점유형태',\n",
    "    '가구서비스',\n",
    "    '노인서비스',\n",
    "    '아동서비스'\n",
    "]"
   ]
  },
  {
   "cell_type": "code",
   "execution_count": 8,
   "id": "640a75d4",
   "metadata": {},
   "outputs": [
    {
     "name": "stderr",
     "output_type": "stream",
     "text": [
      "Gen. (0.26) | Discrim. (-0.18): 100%|████████████████████████████████████████████████| 150/150 [00:05<00:00, 29.13it/s]\n"
     ]
    }
   ],
   "source": [
    "ctgan_0025 = CTGAN(epochs = 150, batch_size = 100, verbose=True)\n",
    "ctgan_0025.fit(raw_0025, categorical_features)\n",
    "\n",
    "# Create synthetic data\n",
    "nrow = len(raw)\n",
    "synthetic_data_0025 = ctgan_0025.sample(nrow)"
   ]
  },
  {
   "cell_type": "code",
   "execution_count": 9,
   "id": "0fbac5c0",
   "metadata": {},
   "outputs": [
    {
     "name": "stderr",
     "output_type": "stream",
     "text": [
      "Gen. (0.61) | Discrim. (0.29): 100%|█████████████████████████████████████████████████| 150/150 [00:14<00:00, 10.65it/s]\n"
     ]
    }
   ],
   "source": [
    "ctgan_005 = CTGAN(epochs = 150, batch_size = 100, verbose=True)\n",
    "ctgan_005.fit(raw_005, categorical_features)\n",
    "\n",
    "# Create synthetic data\n",
    "nrow = len(raw)\n",
    "synthetic_data_005 = ctgan_005.sample(nrow)"
   ]
  },
  {
   "cell_type": "code",
   "execution_count": 10,
   "id": "7ea42ba2",
   "metadata": {},
   "outputs": [
    {
     "name": "stderr",
     "output_type": "stream",
     "text": [
      "Gen. (-0.88) | Discrim. (-0.37): 100%|███████████████████████████████████████████████| 150/150 [00:36<00:00,  4.11it/s]\n"
     ]
    }
   ],
   "source": [
    "ctgan_010 = CTGAN(epochs = 150, batch_size = 100, verbose=True)\n",
    "ctgan_010.fit(raw_010, categorical_features)\n",
    "\n",
    "# Create synthetic data\n",
    "nrow = len(raw)\n",
    "synthetic_data_010 = ctgan_010.sample(nrow)"
   ]
  },
  {
   "cell_type": "code",
   "execution_count": 11,
   "id": "aebc2d5c",
   "metadata": {},
   "outputs": [
    {
     "name": "stderr",
     "output_type": "stream",
     "text": [
      "Gen. (-0.49) | Discrim. (-0.13): 100%|███████████████████████████████████████████████| 150/150 [01:18<00:00,  1.92it/s]\n"
     ]
    }
   ],
   "source": [
    "ctgan_020 = CTGAN(epochs = 150, batch_size = 100, verbose=True)\n",
    "ctgan_020.fit(raw_020, categorical_features)\n",
    "\n",
    "# Create synthetic data\n",
    "nrow = len(raw)\n",
    "synthetic_data_020 = ctgan_020.sample(nrow)"
   ]
  },
  {
   "cell_type": "code",
   "execution_count": 12,
   "id": "10048cd9",
   "metadata": {},
   "outputs": [
    {
     "name": "stderr",
     "output_type": "stream",
     "text": [
      "Gen. (-0.69) | Discrim. (-0.40): 100%|███████████████████████████████████████████████| 150/150 [01:56<00:00,  1.29it/s]\n"
     ]
    }
   ],
   "source": [
    "ctgan_030 = CTGAN(epochs = 150, batch_size = 100, verbose=True)\n",
    "ctgan_030.fit(raw_030, categorical_features)\n",
    "\n",
    "# Create synthetic data\n",
    "nrow = len(raw)\n",
    "synthetic_data_030 = ctgan_030.sample(nrow)"
   ]
  },
  {
   "cell_type": "code",
   "execution_count": 13,
   "id": "fec956ef",
   "metadata": {},
   "outputs": [
    {
     "name": "stderr",
     "output_type": "stream",
     "text": [
      "Gen. (-0.97) | Discrim. (-0.57): 100%|███████████████████████████████████████████████| 150/150 [02:32<00:00,  1.01s/it]\n"
     ]
    }
   ],
   "source": [
    "ctgan_040 = CTGAN(epochs = 150, batch_size = 100, verbose=True)\n",
    "ctgan_040.fit(raw_040, categorical_features)\n",
    "\n",
    "# Create synthetic data\n",
    "nrow = len(raw)\n",
    "synthetic_data_040 = ctgan_040.sample(nrow)"
   ]
  },
  {
   "cell_type": "code",
   "execution_count": 14,
   "id": "ab627240",
   "metadata": {},
   "outputs": [
    {
     "name": "stderr",
     "output_type": "stream",
     "text": [
      "Gen. (-0.66) | Discrim. (-0.23): 100%|███████████████████████████████████████████████| 150/150 [03:22<00:00,  1.35s/it]\n"
     ]
    }
   ],
   "source": [
    "ctgan_050 = CTGAN(epochs = 150, batch_size = 100, verbose=True)\n",
    "ctgan_050.fit(raw_050, categorical_features)\n",
    "\n",
    "# Create synthetic data\n",
    "nrow = len(raw)\n",
    "synthetic_data_050 = ctgan_050.sample(nrow)"
   ]
  },
  {
   "cell_type": "code",
   "execution_count": 15,
   "id": "29e6852b",
   "metadata": {},
   "outputs": [
    {
     "name": "stderr",
     "output_type": "stream",
     "text": [
      "Gen. (-1.68) | Discrim. (-0.83): 100%|███████████████████████████████████████████████| 150/150 [04:05<00:00,  1.64s/it]\n"
     ]
    }
   ],
   "source": [
    "ctgan_060 = CTGAN(epochs = 150, batch_size = 100, verbose=True)\n",
    "ctgan_060.fit(raw_060, categorical_features)\n",
    "\n",
    "# Create synthetic data\n",
    "nrow = len(raw)\n",
    "synthetic_data_060 = ctgan_060.sample(nrow)"
   ]
  },
  {
   "cell_type": "code",
   "execution_count": 16,
   "id": "9c3cb04e",
   "metadata": {},
   "outputs": [
    {
     "name": "stderr",
     "output_type": "stream",
     "text": [
      "Gen. (-1.87) | Discrim. (-0.23): 100%|███████████████████████████████████████████████| 150/150 [04:27<00:00,  1.79s/it]\n"
     ]
    }
   ],
   "source": [
    "ctgan_070 = CTGAN(epochs = 150, batch_size = 100, verbose=True)\n",
    "ctgan_070.fit(raw_070, categorical_features)\n",
    "\n",
    "# Create synthetic data\n",
    "nrow = len(raw)\n",
    "synthetic_data_070 = ctgan_070.sample(nrow)"
   ]
  },
  {
   "cell_type": "code",
   "execution_count": 17,
   "id": "71670a9e",
   "metadata": {},
   "outputs": [
    {
     "name": "stderr",
     "output_type": "stream",
     "text": [
      "Gen. (-1.44) | Discrim. (-0.14): 100%|███████████████████████████████████████████████| 150/150 [05:30<00:00,  2.21s/it]\n"
     ]
    }
   ],
   "source": [
    "ctgan_080 = CTGAN(epochs = 150, batch_size = 100, verbose=True)\n",
    "ctgan_080.fit(raw_080, categorical_features)\n",
    "\n",
    "# Create synthetic data\n",
    "nrow = len(raw)\n",
    "synthetic_data_080 = ctgan_080.sample(nrow)"
   ]
  },
  {
   "cell_type": "code",
   "execution_count": 18,
   "id": "2b96ef5f",
   "metadata": {},
   "outputs": [
    {
     "name": "stderr",
     "output_type": "stream",
     "text": [
      "Gen. (-0.88) | Discrim. (0.06): 100%|████████████████████████████████████████████████| 150/150 [05:36<00:00,  2.24s/it]\n"
     ]
    }
   ],
   "source": [
    "ctgan_090 = CTGAN(epochs = 150, batch_size = 100, verbose=True)\n",
    "ctgan_090.fit(raw_090, categorical_features)\n",
    "\n",
    "# Create synthetic data\n",
    "nrow = len(raw)\n",
    "synthetic_data_090 = ctgan_090.sample(nrow)"
   ]
  },
  {
   "cell_type": "code",
   "execution_count": 19,
   "id": "fb81b33c",
   "metadata": {},
   "outputs": [
    {
     "name": "stderr",
     "output_type": "stream",
     "text": [
      "Gen. (-1.37) | Discrim. (0.60): 100%|████████████████████████████████████████████████| 150/150 [05:50<00:00,  2.34s/it]\n"
     ]
    }
   ],
   "source": [
    "ctgan_095 = CTGAN(epochs = 150, batch_size = 100, verbose=True)\n",
    "ctgan_095.fit(raw_095, categorical_features)\n",
    "\n",
    "# Create synthetic data\n",
    "nrow = len(raw)\n",
    "synthetic_data_095 = ctgan_095.sample(nrow)"
   ]
  },
  {
   "cell_type": "code",
   "execution_count": 20,
   "id": "a12461d9",
   "metadata": {},
   "outputs": [
    {
     "name": "stderr",
     "output_type": "stream",
     "text": [
      "Gen. (-0.79) | Discrim. (-0.05): 100%|███████████████████████████████████████████████| 150/150 [06:20<00:00,  2.54s/it]\n"
     ]
    }
   ],
   "source": [
    "ctgan_0975 = CTGAN(epochs = 150, batch_size = 100, verbose=True)\n",
    "ctgan_0975.fit(raw_0975, categorical_features)\n",
    "\n",
    "# Create synthetic data\n",
    "nrow = len(raw)\n",
    "synthetic_data_0975 = ctgan_0975.sample(nrow)"
   ]
  },
  {
   "cell_type": "code",
   "execution_count": 21,
   "id": "948580cf",
   "metadata": {},
   "outputs": [
    {
     "name": "stderr",
     "output_type": "stream",
     "text": [
      "Gen. (-0.59) | Discrim. (-0.37): 100%|███████████████████████████████████████████████| 150/150 [06:00<00:00,  2.40s/it]\n"
     ]
    }
   ],
   "source": [
    "ctgan_0999 = CTGAN(epochs = 150, batch_size = 100, verbose=True)\n",
    "ctgan_0999.fit(raw_0999, categorical_features)\n",
    "\n",
    "# Create synthetic data\n",
    "nrow = len(raw)\n",
    "synthetic_data_0999 = ctgan_0999.sample(nrow)"
   ]
  },
  {
   "cell_type": "code",
   "execution_count": 22,
   "id": "ae4b9977",
   "metadata": {},
   "outputs": [],
   "source": [
    "synthetic_data_0025.to_csv('ctgan_0025.csv', encoding='UTF-8-sig')\n",
    "synthetic_data_005.to_csv('ctgan_005.csv', encoding='UTF-8-sig')\n",
    "synthetic_data_010.to_csv('ctgan_010.csv', encoding='UTF-8-sig')\n",
    "synthetic_data_020.to_csv('ctgan_020.csv', encoding='UTF-8-sig')\n",
    "synthetic_data_030.to_csv('ctgan_030.csv', encoding='UTF-8-sig')\n",
    "synthetic_data_040.to_csv('ctgan_040.csv', encoding='UTF-8-sig')\n",
    "synthetic_data_050.to_csv('ctgan_050.csv', encoding='UTF-8-sig')\n",
    "synthetic_data_060.to_csv('ctgan_060.csv', encoding='UTF-8-sig')\n",
    "synthetic_data_070.to_csv('ctgan_070.csv', encoding='UTF-8-sig')\n",
    "synthetic_data_080.to_csv('ctgan_080.csv', encoding='UTF-8-sig')\n",
    "synthetic_data_090.to_csv('ctgan_090.csv', encoding='UTF-8-sig')\n",
    "synthetic_data_095.to_csv('ctgan_095.csv', encoding='UTF-8-sig')\n",
    "synthetic_data_0975.to_csv('ctgan_0975.csv', encoding='UTF-8-sig')\n",
    "synthetic_data_0999.to_csv('ctgan_0999.csv', encoding='UTF-8-sig')"
   ]
  }
 ],
 "metadata": {
  "kernelspec": {
   "display_name": "Python 3 (ipykernel)",
   "language": "python",
   "name": "python3"
  },
  "language_info": {
   "codemirror_mode": {
    "name": "ipython",
    "version": 3
   },
   "file_extension": ".py",
   "mimetype": "text/x-python",
   "name": "python",
   "nbconvert_exporter": "python",
   "pygments_lexer": "ipython3",
   "version": "3.9.7"
  }
 },
 "nbformat": 4,
 "nbformat_minor": 5
}
