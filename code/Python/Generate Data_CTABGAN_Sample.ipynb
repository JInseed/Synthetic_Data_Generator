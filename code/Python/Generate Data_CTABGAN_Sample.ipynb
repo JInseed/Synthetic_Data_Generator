{
 "cells": [
  {
   "cell_type": "code",
   "execution_count": 1,
   "id": "0842af07",
   "metadata": {},
   "outputs": [
    {
     "name": "stdout",
     "output_type": "stream",
     "text": [
      "0.24.0\n"
     ]
    }
   ],
   "source": [
    "import sklearn\n",
    "print(sklearn.__version__)"
   ]
  },
  {
   "cell_type": "code",
   "execution_count": 2,
   "id": "e37e78c1",
   "metadata": {},
   "outputs": [],
   "source": [
    "import seaborn as sns\n",
    "import matplotlib.pyplot as plt\n",
    "\n",
    "from matplotlib import rc\n",
    "%matplotlib inline\n",
    "from matplotlib import font_manager\n",
    "plt.style.use('default')\n",
    "f_path = \"C:/windows/Fonts/malgun.ttf\"\n",
    "ko_font = font_manager.FontProperties(fname=f_path).get_name()\n",
    "rc('font', family='Malgun Gothic')\n",
    "#plt.title('테스트')"
   ]
  },
  {
   "cell_type": "code",
   "execution_count": 3,
   "id": "d8a3ba11",
   "metadata": {},
   "outputs": [],
   "source": [
    "from model.ctabgan import CTABGAN\n",
    "from table_evaluator import load_data, TableEvaluator\n",
    "import numpy as np\n",
    "import pandas as pd\n",
    "import glob\n",
    "#from model.eval.evaluation import get_utility_metrics,stat_sim,privacy_metrics\n",
    "import sdmetrics"
   ]
  },
  {
   "cell_type": "code",
   "execution_count": 4,
   "id": "ae388faa",
   "metadata": {},
   "outputs": [],
   "source": [
    "#Data Load\n",
    "\n",
    "raw = pd.read_csv('C:/Users/82102/OneDrive - dongguk.edu/바탕 화면/캡스톤/data/rawdata.csv')"
   ]
  },
  {
   "cell_type": "code",
   "execution_count": 5,
   "id": "e2d45afb",
   "metadata": {},
   "outputs": [
    {
     "data": {
      "text/html": [
       "<div>\n",
       "<style scoped>\n",
       "    .dataframe tbody tr th:only-of-type {\n",
       "        vertical-align: middle;\n",
       "    }\n",
       "\n",
       "    .dataframe tbody tr th {\n",
       "        vertical-align: top;\n",
       "    }\n",
       "\n",
       "    .dataframe thead th {\n",
       "        text-align: right;\n",
       "    }\n",
       "</style>\n",
       "<table border=\"1\" class=\"dataframe\">\n",
       "  <thead>\n",
       "    <tr style=\"text-align: right;\">\n",
       "      <th></th>\n",
       "      <th>저소득층여부</th>\n",
       "      <th>나이</th>\n",
       "      <th>교육수준</th>\n",
       "      <th>혼인상태</th>\n",
       "      <th>가구형태</th>\n",
       "      <th>주택유형</th>\n",
       "      <th>주택점유형태</th>\n",
       "      <th>총생활비</th>\n",
       "      <th>총소득</th>\n",
       "      <th>가구서비스</th>\n",
       "      <th>노인서비스</th>\n",
       "      <th>아동서비스</th>\n",
       "    </tr>\n",
       "  </thead>\n",
       "  <tbody>\n",
       "    <tr>\n",
       "      <th>0</th>\n",
       "      <td>2</td>\n",
       "      <td>78</td>\n",
       "      <td>중등</td>\n",
       "      <td>사별</td>\n",
       "      <td>단독</td>\n",
       "      <td>다가구용단독주택</td>\n",
       "      <td>자가</td>\n",
       "      <td>3300</td>\n",
       "      <td>0</td>\n",
       "      <td>이용</td>\n",
       "      <td>이용</td>\n",
       "      <td>해당없음</td>\n",
       "    </tr>\n",
       "    <tr>\n",
       "      <th>1</th>\n",
       "      <td>1</td>\n",
       "      <td>75</td>\n",
       "      <td>초등</td>\n",
       "      <td>사별</td>\n",
       "      <td>단독</td>\n",
       "      <td>다가구용단독주택</td>\n",
       "      <td>보증부월세</td>\n",
       "      <td>2868</td>\n",
       "      <td>2064</td>\n",
       "      <td>이용</td>\n",
       "      <td>이용</td>\n",
       "      <td>해당없음</td>\n",
       "    </tr>\n",
       "    <tr>\n",
       "      <th>2</th>\n",
       "      <td>1</td>\n",
       "      <td>81</td>\n",
       "      <td>대학</td>\n",
       "      <td>이혼</td>\n",
       "      <td>단독</td>\n",
       "      <td>일반단독주택</td>\n",
       "      <td>자가</td>\n",
       "      <td>1872</td>\n",
       "      <td>1200</td>\n",
       "      <td>이용</td>\n",
       "      <td>이용</td>\n",
       "      <td>해당없음</td>\n",
       "    </tr>\n",
       "    <tr>\n",
       "      <th>3</th>\n",
       "      <td>1</td>\n",
       "      <td>61</td>\n",
       "      <td>전문대</td>\n",
       "      <td>유배우</td>\n",
       "      <td>기타</td>\n",
       "      <td>다가구용단독주택</td>\n",
       "      <td>자가</td>\n",
       "      <td>6492</td>\n",
       "      <td>3216</td>\n",
       "      <td>이용</td>\n",
       "      <td>이용</td>\n",
       "      <td>해당없음</td>\n",
       "    </tr>\n",
       "    <tr>\n",
       "      <th>4</th>\n",
       "      <td>2</td>\n",
       "      <td>83</td>\n",
       "      <td>초등</td>\n",
       "      <td>사별</td>\n",
       "      <td>단독</td>\n",
       "      <td>일반아파트</td>\n",
       "      <td>비가구원명의주택</td>\n",
       "      <td>1020</td>\n",
       "      <td>324</td>\n",
       "      <td>이용</td>\n",
       "      <td>이용</td>\n",
       "      <td>해당없음</td>\n",
       "    </tr>\n",
       "    <tr>\n",
       "      <th>...</th>\n",
       "      <td>...</td>\n",
       "      <td>...</td>\n",
       "      <td>...</td>\n",
       "      <td>...</td>\n",
       "      <td>...</td>\n",
       "      <td>...</td>\n",
       "      <td>...</td>\n",
       "      <td>...</td>\n",
       "      <td>...</td>\n",
       "      <td>...</td>\n",
       "      <td>...</td>\n",
       "      <td>...</td>\n",
       "    </tr>\n",
       "    <tr>\n",
       "      <th>7860</th>\n",
       "      <td>1</td>\n",
       "      <td>42</td>\n",
       "      <td>전문대</td>\n",
       "      <td>유배우</td>\n",
       "      <td>기타</td>\n",
       "      <td>일반아파트</td>\n",
       "      <td>전세</td>\n",
       "      <td>4608</td>\n",
       "      <td>3630</td>\n",
       "      <td>이용</td>\n",
       "      <td>해당없음</td>\n",
       "      <td>이용</td>\n",
       "    </tr>\n",
       "    <tr>\n",
       "      <th>7861</th>\n",
       "      <td>1</td>\n",
       "      <td>46</td>\n",
       "      <td>대학</td>\n",
       "      <td>유배우</td>\n",
       "      <td>기타</td>\n",
       "      <td>일반아파트</td>\n",
       "      <td>자가</td>\n",
       "      <td>8580</td>\n",
       "      <td>5100</td>\n",
       "      <td>미이용</td>\n",
       "      <td>해당없음</td>\n",
       "      <td>이용</td>\n",
       "    </tr>\n",
       "    <tr>\n",
       "      <th>7862</th>\n",
       "      <td>1</td>\n",
       "      <td>47</td>\n",
       "      <td>대학</td>\n",
       "      <td>유배우</td>\n",
       "      <td>기타</td>\n",
       "      <td>일반아파트</td>\n",
       "      <td>자가</td>\n",
       "      <td>7140</td>\n",
       "      <td>5500</td>\n",
       "      <td>이용</td>\n",
       "      <td>해당없음</td>\n",
       "      <td>이용</td>\n",
       "    </tr>\n",
       "    <tr>\n",
       "      <th>7863</th>\n",
       "      <td>1</td>\n",
       "      <td>48</td>\n",
       "      <td>대학</td>\n",
       "      <td>유배우</td>\n",
       "      <td>기타</td>\n",
       "      <td>일반아파트</td>\n",
       "      <td>전세</td>\n",
       "      <td>6744</td>\n",
       "      <td>10350</td>\n",
       "      <td>미이용</td>\n",
       "      <td>해당없음</td>\n",
       "      <td>미이용</td>\n",
       "    </tr>\n",
       "    <tr>\n",
       "      <th>7864</th>\n",
       "      <td>1</td>\n",
       "      <td>59</td>\n",
       "      <td>대학</td>\n",
       "      <td>유배우</td>\n",
       "      <td>기타</td>\n",
       "      <td>일반아파트</td>\n",
       "      <td>전세</td>\n",
       "      <td>6168</td>\n",
       "      <td>7880</td>\n",
       "      <td>미이용</td>\n",
       "      <td>해당없음</td>\n",
       "      <td>해당없음</td>\n",
       "    </tr>\n",
       "  </tbody>\n",
       "</table>\n",
       "<p>7865 rows × 12 columns</p>\n",
       "</div>"
      ],
      "text/plain": [
       "      저소득층여부  나이 교육수준 혼인상태 가구형태      주택유형    주택점유형태  총생활비    총소득 가구서비스 노인서비스  \\\n",
       "0          2  78   중등   사별   단독  다가구용단독주택        자가  3300      0    이용    이용   \n",
       "1          1  75   초등   사별   단독  다가구용단독주택     보증부월세  2868   2064    이용    이용   \n",
       "2          1  81   대학   이혼   단독    일반단독주택        자가  1872   1200    이용    이용   \n",
       "3          1  61  전문대  유배우   기타  다가구용단독주택        자가  6492   3216    이용    이용   \n",
       "4          2  83   초등   사별   단독     일반아파트  비가구원명의주택  1020    324    이용    이용   \n",
       "...      ...  ..  ...  ...  ...       ...       ...   ...    ...   ...   ...   \n",
       "7860       1  42  전문대  유배우   기타     일반아파트        전세  4608   3630    이용  해당없음   \n",
       "7861       1  46   대학  유배우   기타     일반아파트        자가  8580   5100   미이용  해당없음   \n",
       "7862       1  47   대학  유배우   기타     일반아파트        자가  7140   5500    이용  해당없음   \n",
       "7863       1  48   대학  유배우   기타     일반아파트        전세  6744  10350   미이용  해당없음   \n",
       "7864       1  59   대학  유배우   기타     일반아파트        전세  6168   7880   미이용  해당없음   \n",
       "\n",
       "     아동서비스  \n",
       "0     해당없음  \n",
       "1     해당없음  \n",
       "2     해당없음  \n",
       "3     해당없음  \n",
       "4     해당없음  \n",
       "...    ...  \n",
       "7860    이용  \n",
       "7861    이용  \n",
       "7862    이용  \n",
       "7863   미이용  \n",
       "7864  해당없음  \n",
       "\n",
       "[7865 rows x 12 columns]"
      ]
     },
     "execution_count": 5,
     "metadata": {},
     "output_type": "execute_result"
    }
   ],
   "source": [
    "raw"
   ]
  },
  {
   "cell_type": "code",
   "execution_count": 6,
   "id": "7e55867c",
   "metadata": {},
   "outputs": [
    {
     "name": "stdout",
     "output_type": "stream",
     "text": [
      "<class 'pandas.core.frame.DataFrame'>\n",
      "RangeIndex: 7865 entries, 0 to 7864\n",
      "Data columns (total 12 columns):\n",
      " #   Column  Non-Null Count  Dtype \n",
      "---  ------  --------------  ----- \n",
      " 0   저소득층여부  7865 non-null   int64 \n",
      " 1   나이      7865 non-null   int64 \n",
      " 2   교육수준    7865 non-null   object\n",
      " 3   혼인상태    7865 non-null   object\n",
      " 4   가구형태    7865 non-null   object\n",
      " 5   주택유형    7865 non-null   object\n",
      " 6   주택점유형태  7865 non-null   object\n",
      " 7   총생활비    7865 non-null   int64 \n",
      " 8   총소득     7865 non-null   int64 \n",
      " 9   가구서비스   7865 non-null   object\n",
      " 10  노인서비스   7865 non-null   object\n",
      " 11  아동서비스   7865 non-null   object\n",
      "dtypes: int64(4), object(8)\n",
      "memory usage: 737.5+ KB\n"
     ]
    }
   ],
   "source": [
    "raw.info()"
   ]
  },
  {
   "cell_type": "code",
   "execution_count": 7,
   "id": "1046280e",
   "metadata": {},
   "outputs": [],
   "source": [
    "# 범주형 변수 지정\n",
    "categorical_features = [\n",
    "    '저소득층여부',\n",
    "    '교육수준',\n",
    "    '혼인상태',\n",
    "    '가구형태',\n",
    "    '주택유형',\n",
    "    '주택점유형태',\n",
    "    '가구서비스',\n",
    "    '노인서비스',\n",
    "    '아동서비스'\n",
    "]\n",
    "\n",
    "real_path = 'C:/Users/82102/OneDrive - dongguk.edu/바탕 화면/캡스톤/data/rawdata.csv'"
   ]
  },
  {
   "cell_type": "code",
   "execution_count": 8,
   "id": "45c371f9",
   "metadata": {},
   "outputs": [
    {
     "name": "stderr",
     "output_type": "stream",
     "text": [
      "100%|████████████████████████████████████████████████████████████████████████████████| 150/150 [00:37<00:00,  4.02it/s]\n"
     ]
    },
    {
     "name": "stdout",
     "output_type": "stream",
     "text": [
      "Finished training in 38.09103965759277  seconds.\n"
     ]
    }
   ],
   "source": [
    "ctabgan_0025 = CTABGAN(raw_csv_path = real_path,\n",
    "                  test_ratio = .975,\n",
    "                  categorical_columns = categorical_features,\n",
    "                  log_columns = [],\n",
    "                  mixed_columns= {},\n",
    "                  integer_columns = ['나이', '총소득','총생활비'],\n",
    "                  problem_type= {\"Classification\": '저소득층여부'},\n",
    "                  epochs = 150\n",
    "                 ) \n",
    "ctabgan_0025.fit()\n",
    "\n",
    "# Create synthetic data\n",
    "synthetic_data_0025 = ctabgan_0025.generate_samples()\n",
    "\n",
    "synthetic_data_0025 = synthetic_data_0025[['저소득층여부', '나이', '교육수준', '혼인상태', '가구형태', '주택유형', '주택점유형태', '총생활비',\n",
    "       '총소득', '가구서비스', '노인서비스', '아동서비스']]"
   ]
  },
  {
   "cell_type": "code",
   "execution_count": 9,
   "id": "f65eaf77",
   "metadata": {},
   "outputs": [
    {
     "name": "stderr",
     "output_type": "stream",
     "text": [
      "100%|████████████████████████████████████████████████████████████████████████████████| 150/150 [01:40<00:00,  1.49it/s]\n"
     ]
    },
    {
     "name": "stdout",
     "output_type": "stream",
     "text": [
      "Finished training in 101.41313147544861  seconds.\n"
     ]
    }
   ],
   "source": [
    "ctabgan_005 = CTABGAN(raw_csv_path = real_path,\n",
    "                  test_ratio = .95,\n",
    "                  categorical_columns = categorical_features,\n",
    "                  log_columns = [],\n",
    "                  mixed_columns= {},\n",
    "                  integer_columns = ['나이', '총소득','총생활비'],\n",
    "                  problem_type= {\"Classification\": '저소득층여부'},\n",
    "                  epochs = 150\n",
    "                 ) \n",
    "ctabgan_005.fit()\n",
    "\n",
    "# Create synthetic data\n",
    "synthetic_data_005 = ctabgan_005.generate_samples()\n",
    "\n",
    "synthetic_data_005 = synthetic_data_005[['저소득층여부', '나이', '교육수준', '혼인상태', '가구형태', '주택유형', '주택점유형태', '총생활비',\n",
    "       '총소득', '가구서비스', '노인서비스', '아동서비스']]"
   ]
  },
  {
   "cell_type": "code",
   "execution_count": 10,
   "id": "7dfae4f9",
   "metadata": {},
   "outputs": [
    {
     "name": "stderr",
     "output_type": "stream",
     "text": [
      "100%|████████████████████████████████████████████████████████████████████████████████| 150/150 [04:06<00:00,  1.64s/it]\n"
     ]
    },
    {
     "name": "stdout",
     "output_type": "stream",
     "text": [
      "Finished training in 246.74156951904297  seconds.\n"
     ]
    }
   ],
   "source": [
    "ctabgan_010 = CTABGAN(raw_csv_path = real_path,\n",
    "                  test_ratio = .9,\n",
    "                  categorical_columns = categorical_features,\n",
    "                  log_columns = [],\n",
    "                  mixed_columns= {},\n",
    "                  integer_columns = ['나이', '총소득','총생활비'],\n",
    "                  problem_type= {\"Classification\": '저소득층여부'},\n",
    "                  epochs = 150\n",
    "                 ) \n",
    "ctabgan_010.fit()\n",
    "\n",
    "# Create synthetic data\n",
    "synthetic_data_010 = ctabgan_010.generate_samples()\n",
    "\n",
    "synthetic_data_010 = synthetic_data_010[['저소득층여부', '나이', '교육수준', '혼인상태', '가구형태', '주택유형', '주택점유형태', '총생활비',\n",
    "       '총소득', '가구서비스', '노인서비스', '아동서비스']]"
   ]
  },
  {
   "cell_type": "code",
   "execution_count": 11,
   "id": "f5a4e161",
   "metadata": {},
   "outputs": [
    {
     "name": "stderr",
     "output_type": "stream",
     "text": [
      "100%|████████████████████████████████████████████████████████████████████████████████| 150/150 [09:06<00:00,  3.65s/it]\n"
     ]
    },
    {
     "name": "stdout",
     "output_type": "stream",
     "text": [
      "Finished training in 548.00772356987  seconds.\n"
     ]
    }
   ],
   "source": [
    "ctabgan_020 = CTABGAN(raw_csv_path = real_path,\n",
    "                  test_ratio = .8,\n",
    "                  categorical_columns = categorical_features,\n",
    "                  log_columns = [],\n",
    "                  mixed_columns= {},\n",
    "                  integer_columns = ['나이', '총소득','총생활비'],\n",
    "                  problem_type= {\"Classification\": '저소득층여부'},\n",
    "                  epochs = 150\n",
    "                 ) \n",
    "ctabgan_020.fit()\n",
    "\n",
    "# Create synthetic data\n",
    "synthetic_data_020 = ctabgan_020.generate_samples()\n",
    "\n",
    "synthetic_data_020 = synthetic_data_020[['저소득층여부', '나이', '교육수준', '혼인상태', '가구형태', '주택유형', '주택점유형태', '총생활비',\n",
    "       '총소득', '가구서비스', '노인서비스', '아동서비스']]"
   ]
  },
  {
   "cell_type": "code",
   "execution_count": 12,
   "id": "12c80aff",
   "metadata": {},
   "outputs": [
    {
     "name": "stderr",
     "output_type": "stream",
     "text": [
      "100%|████████████████████████████████████████████████████████████████████████████████| 150/150 [11:12<00:00,  4.48s/it]\n"
     ]
    },
    {
     "name": "stdout",
     "output_type": "stream",
     "text": [
      "Finished training in 673.6171193122864  seconds.\n"
     ]
    }
   ],
   "source": [
    "ctabgan_030 = CTABGAN(raw_csv_path = real_path,\n",
    "                  test_ratio = .7,\n",
    "                  categorical_columns = categorical_features,\n",
    "                  log_columns = [],\n",
    "                  mixed_columns= {},\n",
    "                  integer_columns = ['나이', '총소득','총생활비'],\n",
    "                  problem_type= {\"Classification\": '저소득층여부'},\n",
    "                  epochs = 150\n",
    "                 ) \n",
    "ctabgan_030.fit()\n",
    "\n",
    "# Create synthetic data\n",
    "synthetic_data_030 = ctabgan_030.generate_samples()\n",
    "\n",
    "synthetic_data_030 = synthetic_data_030[['저소득층여부', '나이', '교육수준', '혼인상태', '가구형태', '주택유형', '주택점유형태', '총생활비',\n",
    "       '총소득', '가구서비스', '노인서비스', '아동서비스']]"
   ]
  },
  {
   "cell_type": "code",
   "execution_count": 13,
   "id": "5c57f3b6",
   "metadata": {},
   "outputs": [
    {
     "name": "stderr",
     "output_type": "stream",
     "text": [
      "100%|████████████████████████████████████████████████████████████████████████████████| 150/150 [20:57<00:00,  8.38s/it]\n"
     ]
    },
    {
     "name": "stdout",
     "output_type": "stream",
     "text": [
      "Finished training in 1258.8232259750366  seconds.\n"
     ]
    }
   ],
   "source": [
    "ctabgan_040 = CTABGAN(raw_csv_path = real_path,\n",
    "                  test_ratio = .6,\n",
    "                  categorical_columns = categorical_features,\n",
    "                  log_columns = [],\n",
    "                  mixed_columns= {},\n",
    "                  integer_columns = ['나이', '총소득','총생활비'],\n",
    "                  problem_type= {\"Classification\": '저소득층여부'},\n",
    "                  epochs = 150\n",
    "                 ) \n",
    "ctabgan_040.fit()\n",
    "\n",
    "# Create synthetic data\n",
    "synthetic_data_040 = ctabgan_040.generate_samples()\n",
    "\n",
    "synthetic_data_040 = synthetic_data_040[['저소득층여부', '나이', '교육수준', '혼인상태', '가구형태', '주택유형', '주택점유형태', '총생활비',\n",
    "       '총소득', '가구서비스', '노인서비스', '아동서비스']]"
   ]
  },
  {
   "cell_type": "code",
   "execution_count": 14,
   "id": "bcf85d31",
   "metadata": {},
   "outputs": [
    {
     "name": "stderr",
     "output_type": "stream",
     "text": [
      "100%|████████████████████████████████████████████████████████████████████████████████| 150/150 [26:07<00:00, 10.45s/it]\n"
     ]
    },
    {
     "name": "stdout",
     "output_type": "stream",
     "text": [
      "Finished training in 1568.8016347885132  seconds.\n"
     ]
    }
   ],
   "source": [
    "ctabgan_050 = CTABGAN(raw_csv_path = real_path,\n",
    "                  test_ratio = .5,\n",
    "                  categorical_columns = categorical_features,\n",
    "                  log_columns = [],\n",
    "                  mixed_columns= {},\n",
    "                  integer_columns = ['나이', '총소득','총생활비'],\n",
    "                  problem_type= {\"Classification\": '저소득층여부'},\n",
    "                  epochs = 150\n",
    "                 ) \n",
    "ctabgan_050.fit()\n",
    "\n",
    "# Create synthetic data\n",
    "synthetic_data_050 = ctabgan_050.generate_samples()\n",
    "\n",
    "synthetic_data_050 = synthetic_data_050[['저소득층여부', '나이', '교육수준', '혼인상태', '가구형태', '주택유형', '주택점유형태', '총생활비',\n",
    "       '총소득', '가구서비스', '노인서비스', '아동서비스']]"
   ]
  },
  {
   "cell_type": "code",
   "execution_count": 15,
   "id": "ae6c8585",
   "metadata": {},
   "outputs": [
    {
     "name": "stderr",
     "output_type": "stream",
     "text": [
      "100%|████████████████████████████████████████████████████████████████████████████████| 150/150 [31:25<00:00, 12.57s/it]\n"
     ]
    },
    {
     "name": "stdout",
     "output_type": "stream",
     "text": [
      "Finished training in 1886.98490691185  seconds.\n"
     ]
    }
   ],
   "source": [
    "ctabgan_060 = CTABGAN(raw_csv_path = real_path,\n",
    "                  test_ratio = .4,\n",
    "                  categorical_columns = categorical_features,\n",
    "                  log_columns = [],\n",
    "                  mixed_columns= {},\n",
    "                  integer_columns = ['나이', '총소득','총생활비'],\n",
    "                  problem_type= {\"Classification\": '저소득층여부'},\n",
    "                  epochs = 150\n",
    "                 ) \n",
    "ctabgan_060.fit()\n",
    "\n",
    "# Create synthetic data\n",
    "synthetic_data_060 = ctabgan_060.generate_samples()\n",
    "\n",
    "synthetic_data_060 = synthetic_data_060[['저소득층여부', '나이', '교육수준', '혼인상태', '가구형태', '주택유형', '주택점유형태', '총생활비',\n",
    "       '총소득', '가구서비스', '노인서비스', '아동서비스']]"
   ]
  },
  {
   "cell_type": "code",
   "execution_count": 16,
   "id": "f4d76ab7",
   "metadata": {},
   "outputs": [
    {
     "name": "stderr",
     "output_type": "stream",
     "text": [
      "100%|████████████████████████████████████████████████████████████████████████████████| 150/150 [36:47<00:00, 14.71s/it]\n"
     ]
    },
    {
     "name": "stdout",
     "output_type": "stream",
     "text": [
      "Finished training in 2208.7421565055847  seconds.\n"
     ]
    }
   ],
   "source": [
    "ctabgan_070 = CTABGAN(raw_csv_path = real_path,\n",
    "                  test_ratio = .3,\n",
    "                  categorical_columns = categorical_features,\n",
    "                  log_columns = [],\n",
    "                  mixed_columns= {},\n",
    "                  integer_columns = ['나이', '총소득','총생활비'],\n",
    "                  problem_type= {\"Classification\": '저소득층여부'},\n",
    "                  epochs = 150\n",
    "                 ) \n",
    "ctabgan_070.fit()\n",
    "\n",
    "# Create synthetic data\n",
    "synthetic_data_070 = ctabgan_070.generate_samples()\n",
    "\n",
    "synthetic_data_070 = synthetic_data_070[['저소득층여부', '나이', '교육수준', '혼인상태', '가구형태', '주택유형', '주택점유형태', '총생활비',\n",
    "       '총소득', '가구서비스', '노인서비스', '아동서비스']]"
   ]
  },
  {
   "cell_type": "code",
   "execution_count": 17,
   "id": "6d34a9e7",
   "metadata": {},
   "outputs": [
    {
     "name": "stderr",
     "output_type": "stream",
     "text": [
      "100%|████████████████████████████████████████████████████████████████████████████████| 150/150 [41:48<00:00, 16.72s/it]\n"
     ]
    },
    {
     "name": "stdout",
     "output_type": "stream",
     "text": [
      "Finished training in 2510.4017238616943  seconds.\n"
     ]
    }
   ],
   "source": [
    "ctabgan_080 = CTABGAN(raw_csv_path = real_path,\n",
    "                  test_ratio = .2,\n",
    "                  categorical_columns = categorical_features,\n",
    "                  log_columns = [],\n",
    "                  mixed_columns= {},\n",
    "                  integer_columns = ['나이', '총소득','총생활비'],\n",
    "                  problem_type= {\"Classification\": '저소득층여부'},\n",
    "                  epochs = 150\n",
    "                 ) \n",
    "ctabgan_080.fit()\n",
    "\n",
    "# Create synthetic data\n",
    "synthetic_data_080 = ctabgan_080.generate_samples()\n",
    "\n",
    "synthetic_data_080 = synthetic_data_080[['저소득층여부', '나이', '교육수준', '혼인상태', '가구형태', '주택유형', '주택점유형태', '총생활비',\n",
    "       '총소득', '가구서비스', '노인서비스', '아동서비스']]"
   ]
  },
  {
   "cell_type": "code",
   "execution_count": 18,
   "id": "a4335165",
   "metadata": {},
   "outputs": [
    {
     "name": "stderr",
     "output_type": "stream",
     "text": [
      "100%|████████████████████████████████████████████████████████████████████████████████| 150/150 [49:38<00:00, 19.86s/it]\n"
     ]
    },
    {
     "name": "stdout",
     "output_type": "stream",
     "text": [
      "Finished training in 2981.0187532901764  seconds.\n"
     ]
    }
   ],
   "source": [
    "ctabgan_090 = CTABGAN(raw_csv_path = real_path,\n",
    "                  test_ratio = .1,\n",
    "                  categorical_columns = categorical_features,\n",
    "                  log_columns = [],\n",
    "                  mixed_columns= {},\n",
    "                  integer_columns = ['나이', '총소득','총생활비'],\n",
    "                  problem_type= {\"Classification\": '저소득층여부'},\n",
    "                  epochs = 150\n",
    "                 ) \n",
    "ctabgan_090.fit()\n",
    "\n",
    "# Create synthetic data\n",
    "synthetic_data_090 = ctabgan_090.generate_samples()\n",
    "\n",
    "synthetic_data_090 = synthetic_data_090[['저소득층여부', '나이', '교육수준', '혼인상태', '가구형태', '주택유형', '주택점유형태', '총생활비',\n",
    "       '총소득', '가구서비스', '노인서비스', '아동서비스']]"
   ]
  },
  {
   "cell_type": "code",
   "execution_count": 19,
   "id": "8569068a",
   "metadata": {},
   "outputs": [
    {
     "name": "stderr",
     "output_type": "stream",
     "text": [
      "100%|████████████████████████████████████████████████████████████████████████████████| 150/150 [56:58<00:00, 22.79s/it]\n"
     ]
    },
    {
     "name": "stdout",
     "output_type": "stream",
     "text": [
      "Finished training in 3420.6358635425568  seconds.\n"
     ]
    }
   ],
   "source": [
    "ctabgan_095 = CTABGAN(raw_csv_path = real_path,\n",
    "                  test_ratio = .05,\n",
    "                  categorical_columns = categorical_features,\n",
    "                  log_columns = [],\n",
    "                  mixed_columns= {},\n",
    "                  integer_columns = ['나이', '총소득','총생활비'],\n",
    "                  problem_type= {\"Classification\": '저소득층여부'},\n",
    "                  epochs = 150\n",
    "                 ) \n",
    "ctabgan_095.fit()\n",
    "\n",
    "# Create synthetic data\n",
    "synthetic_data_095 = ctabgan_095.generate_samples()\n",
    "\n",
    "synthetic_data_095 = synthetic_data_095[['저소득층여부', '나이', '교육수준', '혼인상태', '가구형태', '주택유형', '주택점유형태', '총생활비',\n",
    "       '총소득', '가구서비스', '노인서비스', '아동서비스']]"
   ]
  },
  {
   "cell_type": "code",
   "execution_count": 20,
   "id": "93baf6e6",
   "metadata": {},
   "outputs": [
    {
     "name": "stderr",
     "output_type": "stream",
     "text": [
      "100%|████████████████████████████████████████████████████████████████████████████████| 150/150 [54:10<00:00, 21.67s/it]\n"
     ]
    },
    {
     "name": "stdout",
     "output_type": "stream",
     "text": [
      "Finished training in 3252.735052585602  seconds.\n"
     ]
    }
   ],
   "source": [
    "ctabgan_0975 = CTABGAN(raw_csv_path = real_path,\n",
    "                  test_ratio = .025,\n",
    "                  categorical_columns = categorical_features,\n",
    "                  log_columns = [],\n",
    "                  mixed_columns= {},\n",
    "                  integer_columns = ['나이', '총소득','총생활비'],\n",
    "                  problem_type= {\"Classification\": '저소득층여부'},\n",
    "                  epochs = 150\n",
    "                 ) \n",
    "ctabgan_0975.fit()\n",
    "\n",
    "# Create synthetic data\n",
    "synthetic_data_0975 = ctabgan_0975.generate_samples()\n",
    "\n",
    "synthetic_data_0975 = synthetic_data_0975[['저소득층여부', '나이', '교육수준', '혼인상태', '가구형태', '주택유형', '주택점유형태', '총생활비',\n",
    "       '총소득', '가구서비스', '노인서비스', '아동서비스']]"
   ]
  },
  {
   "cell_type": "code",
   "execution_count": 21,
   "id": "074c5dfa",
   "metadata": {},
   "outputs": [
    {
     "name": "stderr",
     "output_type": "stream",
     "text": [
      "100%|████████████████████████████████████████████████████████████████████████████████| 150/150 [55:08<00:00, 22.05s/it]\n"
     ]
    },
    {
     "name": "stdout",
     "output_type": "stream",
     "text": [
      "Finished training in 3310.8322381973267  seconds.\n"
     ]
    }
   ],
   "source": [
    "ctabgan_0999 = CTABGAN(raw_csv_path = real_path,\n",
    "                  test_ratio = .001,\n",
    "                  categorical_columns = categorical_features,\n",
    "                  log_columns = [],\n",
    "                  mixed_columns= {},\n",
    "                  integer_columns = ['나이', '총소득','총생활비'],\n",
    "                  problem_type= {\"Classification\": '저소득층여부'},\n",
    "                  epochs = 150\n",
    "                 ) \n",
    "ctabgan_0999.fit()\n",
    "\n",
    "# Create synthetic data\n",
    "synthetic_data_0999 = ctabgan_0999.generate_samples()\n",
    "\n",
    "synthetic_data_0999 = synthetic_data_0999[['저소득층여부', '나이', '교육수준', '혼인상태', '가구형태', '주택유형', '주택점유형태', '총생활비',\n",
    "       '총소득', '가구서비스', '노인서비스', '아동서비스']]"
   ]
  },
  {
   "cell_type": "code",
   "execution_count": 22,
   "id": "35b115d6",
   "metadata": {},
   "outputs": [],
   "source": [
    "synthetic_data_0025.to_csv('ctabgan_0025.csv', encoding='UTF-8-sig')\n",
    "synthetic_data_005.to_csv('ctabgan_005.csv', encoding='UTF-8-sig')\n",
    "synthetic_data_010.to_csv('ctabgan_010.csv', encoding='UTF-8-sig')\n",
    "synthetic_data_020.to_csv('ctabgan_020.csv', encoding='UTF-8-sig')\n",
    "synthetic_data_030.to_csv('ctabgan_030.csv', encoding='UTF-8-sig')\n",
    "synthetic_data_040.to_csv('ctabgan_040.csv', encoding='UTF-8-sig')\n",
    "synthetic_data_050.to_csv('ctabgan_050.csv', encoding='UTF-8-sig')\n",
    "synthetic_data_060.to_csv('ctabgan_060.csv', encoding='UTF-8-sig')\n",
    "synthetic_data_070.to_csv('ctabgan_070.csv', encoding='UTF-8-sig')\n",
    "synthetic_data_080.to_csv('ctabgan_080.csv', encoding='UTF-8-sig')\n",
    "synthetic_data_090.to_csv('ctabgan_090.csv', encoding='UTF-8-sig')\n",
    "synthetic_data_095.to_csv('ctabgan_095.csv', encoding='UTF-8-sig')\n",
    "synthetic_data_0975.to_csv('ctabgan_0975.csv', encoding='UTF-8-sig')\n",
    "synthetic_data_0999.to_csv('ctabgan_0999.csv', encoding='UTF-8-sig')"
   ]
  }
 ],
 "metadata": {
  "kernelspec": {
   "display_name": "Python 3 (ipykernel)",
   "language": "python",
   "name": "python3"
  },
  "language_info": {
   "codemirror_mode": {
    "name": "ipython",
    "version": 3
   },
   "file_extension": ".py",
   "mimetype": "text/x-python",
   "name": "python",
   "nbconvert_exporter": "python",
   "pygments_lexer": "ipython3",
   "version": "3.9.7"
  }
 },
 "nbformat": 4,
 "nbformat_minor": 5
}
